{
  "nbformat": 4,
  "nbformat_minor": 0,
  "metadata": {
    "colab": {
      "provenance": []
    },
    "kernelspec": {
      "name": "python3",
      "display_name": "Python 3"
    },
    "language_info": {
      "name": "python"
    }
  },
  "cells": [
    {
      "cell_type": "code",
      "execution_count": 1,
      "metadata": {
        "id": "u4f2GiVDP9xi"
      },
      "outputs": [],
      "source": [
        "import pyspark"
      ]
    },
    {
      "cell_type": "code",
      "source": [
        "# @title Start a Spark Context\n",
        "from pyspark import SparkConf, SparkContext\n",
        "conf=SparkConf().setMaster(\"local\").setAppName(\"CreatingRDD\")\n",
        "sc=SparkContext(conf=conf)"
      ],
      "metadata": {
        "id": "h7HwUvWdQGY8"
      },
      "execution_count": 2,
      "outputs": []
    },
    {
      "cell_type": "code",
      "source": [
        "# @title 1. Parallelizing Data\n",
        "x=sc.parallelize([(\"spark\",1),(\"hadoop\",4)])\n",
        "y=sc.parallelize([(\"spark\",2),(\"hadoop\",5)])"
      ],
      "metadata": {
        "id": "M6OwaD8DRLs_"
      },
      "execution_count": 3,
      "outputs": []
    },
    {
      "cell_type": "code",
      "source": [
        "x,y"
      ],
      "metadata": {
        "colab": {
          "base_uri": "https://localhost:8080/"
        },
        "id": "SCnvwRQJSAPA",
        "outputId": "76682667-b9df-49ee-c389-9515e120db2d"
      },
      "execution_count": 4,
      "outputs": [
        {
          "output_type": "execute_result",
          "data": {
            "text/plain": [
              "(ParallelCollectionRDD[0] at readRDDFromFile at PythonRDD.scala:289,\n",
              " ParallelCollectionRDD[1] at readRDDFromFile at PythonRDD.scala:289)"
            ]
          },
          "metadata": {},
          "execution_count": 4
        }
      ]
    },
    {
      "cell_type": "code",
      "source": [
        "x.collect(),y.collect()"
      ],
      "metadata": {
        "colab": {
          "base_uri": "https://localhost:8080/"
        },
        "id": "SVnKus8PSBrW",
        "outputId": "4360e57a-1c16-4bd2-b041-a5590287bb44"
      },
      "execution_count": 5,
      "outputs": [
        {
          "output_type": "execute_result",
          "data": {
            "text/plain": [
              "([('spark', 1), ('hadoop', 4)], [('spark', 2), ('hadoop', 5)])"
            ]
          },
          "metadata": {},
          "execution_count": 5
        }
      ]
    },
    {
      "cell_type": "code",
      "source": [
        "# @title 2. Create New RDD from Existing RDD\n",
        "nums=sc.parallelize([1,2,3,4,5])\n",
        "from operator import add\n",
        "adding=nums.reduce(add)\n",
        "print(\"Adding all the elements -> %i\"%(adding))"
      ],
      "metadata": {
        "colab": {
          "base_uri": "https://localhost:8080/"
        },
        "id": "PoliGjlRSKr3",
        "outputId": "10dcb45b-ac20-411a-cc1a-46c7de5503df"
      },
      "execution_count": 7,
      "outputs": [
        {
          "output_type": "stream",
          "name": "stdout",
          "text": [
            "Adding all the elements -> 15\n"
          ]
        }
      ]
    },
    {
      "cell_type": "code",
      "source": [
        "words=sc.parallelize([\"scala\",\"java\",\"hadoop\",\"spark\",\"akka\", \"sparl vs hadoop\", \"pyspark\", \"pyspark and spark\"])\n",
        "words.collect()"
      ],
      "metadata": {
        "colab": {
          "base_uri": "https://localhost:8080/"
        },
        "id": "pfOtNvLDYIZW",
        "outputId": "bbc116de-d64c-4a44-f362-fbdc85e4cfe0"
      },
      "execution_count": 8,
      "outputs": [
        {
          "output_type": "execute_result",
          "data": {
            "text/plain": [
              "['scala',\n",
              " 'java',\n",
              " 'hadoop',\n",
              " 'spark',\n",
              " 'akka',\n",
              " 'sparl vs hadoop',\n",
              " 'pyspark',\n",
              " 'pyspark and spark']"
            ]
          },
          "metadata": {},
          "execution_count": 8
        }
      ]
    },
    {
      "cell_type": "code",
      "source": [
        "words_filter=words.filter(lambda x: 'spark' in x)\n",
        "filtered=words_filter.collect()\n",
        "print(\"Fitered RDD -> %s\"%(filtered))"
      ],
      "metadata": {
        "colab": {
          "base_uri": "https://localhost:8080/"
        },
        "id": "Vwr-SVflY62l",
        "outputId": "bad98255-5bdf-4c72-dc4a-32b818351eeb"
      },
      "execution_count": 9,
      "outputs": [
        {
          "output_type": "stream",
          "name": "stdout",
          "text": [
            "Fitered RDD -> ['spark', 'pyspark', 'pyspark and spark']\n"
          ]
        }
      ]
    },
    {
      "cell_type": "code",
      "source": [
        "# @title 3. From External Files\n",
        "data=sc.textFile(r'people.txt')\n",
        "data.top(2)"
      ],
      "metadata": {
        "colab": {
          "base_uri": "https://localhost:8080/"
        },
        "id": "aEEFRhprY80-",
        "outputId": "ed3fb15a-eec0-4135-a4c6-5ccc30c3dbab"
      },
      "execution_count": 10,
      "outputs": [
        {
          "output_type": "execute_result",
          "data": {
            "text/plain": [
              "['Michael, 29', 'Justin, 19']"
            ]
          },
          "metadata": {},
          "execution_count": 10
        }
      ]
    },
    {
      "cell_type": "code",
      "source": [
        "dataf=data.flatMap(lambda x:x.split(',')[::2])\n",
        "print(\"filtered RDD -> %s\"%(dataf))"
      ],
      "metadata": {
        "colab": {
          "base_uri": "https://localhost:8080/"
        },
        "id": "aeoE7Zy-aafF",
        "outputId": "438ce23c-d7f9-4fdf-a622-df46f5440be5"
      },
      "execution_count": 11,
      "outputs": [
        {
          "output_type": "stream",
          "name": "stdout",
          "text": [
            "filtered RDD -> PythonRDD[9] at RDD at PythonRDD.scala:53\n"
          ]
        }
      ]
    },
    {
      "cell_type": "code",
      "source": [
        "dataf.take(2)"
      ],
      "metadata": {
        "colab": {
          "base_uri": "https://localhost:8080/"
        },
        "id": "H967rPugbBol",
        "outputId": "a71e0337-b41a-4a50-a3b0-cada96cd031a"
      },
      "execution_count": 12,
      "outputs": [
        {
          "output_type": "execute_result",
          "data": {
            "text/plain": [
              "['Michael', 'Justin']"
            ]
          },
          "metadata": {},
          "execution_count": 12
        }
      ]
    },
    {
      "cell_type": "code",
      "source": [],
      "metadata": {
        "id": "6xSFQkQPbG0X"
      },
      "execution_count": null,
      "outputs": []
    }
  ]
}